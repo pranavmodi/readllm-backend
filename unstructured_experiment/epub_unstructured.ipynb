{
 "cells": [
  {
   "cell_type": "code",
   "execution_count": 1,
   "id": "4647dccc-5068-42f1-be90-52cbefd9ee5b",
   "metadata": {},
   "outputs": [
    {
     "name": "stdout",
     "output_type": "stream",
     "text": [
      "Unstructured.io successfully imported!\n"
     ]
    }
   ],
   "source": [
    "from unstructured.partition.epub import partition_epub\n",
    "print(\"Unstructured.io successfully imported!\")"
   ]
  },
  {
   "cell_type": "code",
   "execution_count": 11,
   "id": "16a096ab-ff76-4586-bb12-8c9e13c8e35e",
   "metadata": {},
   "outputs": [
    {
     "name": "stdout",
     "output_type": "stream",
     "text": [
      "the len of elements 1887\n",
      "<class 'unstructured.documents.elements.Title'> :  d_r0\n",
      "<class 'unstructured.documents.elements.Title'> :  Foreword\n",
      "<class 'unstructured.documents.elements.Title'> :  Doug Hill\n",
      "<class 'unstructured.documents.elements.NarrativeText'> :  It tells you something\n",
      "about Norbert Wiener’s qualifications as a prophet that\n",
      "Cybernetics has been republished twice since it first appeared\n",
      "in 1948, and that on each of those occasions his thoughts and\n",
      "predictions about the technologies he helped create have seemed more\n",
      "ingenious, more prescient, and, in some respects, more troubling.\n",
      "<class 'unstructured.documents.elements.NarrativeText'> :  The New York Times acknowledged as much in 1965 when it\n",
      "turned over the front page of its prestigious book review section to\n",
      "Cybernetics’ first reissue—a rare editorial honor indeed for a\n",
      "book that was, at the time, seventeen years old.1 (The decision to grant cover status may have been\n",
      "influenced by the fact that a month earlier Wiener had won,\n",
      "posthumously, a National Book Award for God & Golem, Inc.)\n",
      "The Times’ reviewer, John Pfeiffer, called Cybernetics\n",
      "“one of the finest intellectual adventure stories ever written.” He also\n",
      "noted, however, that upon the book’s initial publication, Wiener’s\n",
      "warnings about the potential dangers of computer technology had created\n",
      "“something of a scandal.” Three years after Hiroshima and Nagasaki,\n",
      "Americans were worried that scientists might not be able to contain the\n",
      "powers they’d unleashed. Wiener didn’t reassure them.\n",
      "<class 'unstructured.documents.elements.NarrativeText'> :  His\n",
      "introduction concludes by noting his distress that those who contributed\n",
      "to the development of cybernetics, including himself, “stand in a moral\n",
      "position which is, to say the least, not very comfortable.” The\n",
      "techniques emerging from their ideas, he said, could be used for evil as\n",
      "well as good, and it was obvious he expected they would be. True, he\n",
      "said, many of his colleagues held out hope that cybernetics could lead\n",
      "to “a better understanding of man and society.” Speaking for himself,\n",
      "Wiener said, “I am compelled to say that it is a very slight hope.”\n",
      "<class 'unstructured.documents.elements.NarrativeText'> :  This latest reissue of Cybernetics likewise makes its\n",
      "appearance at a time when people are wondering whether we have our\n",
      "technologies firmly in control. And it’s safe to say Wiener would not be\n",
      "surprised that those anxieties arise from just the sorts of\n",
      "technological power he wrote about in 1948.\n",
      "<class 'unstructured.documents.elements.NarrativeText'> :  The likely impact of automation on employment is an example. Over the\n",
      "past few years, a plethora of articles, books, studies, and conferences\n",
      "have warned, often alarmingly, that advances in artificial intelligence\n",
      "and robotics pose a significant threat to a significant number of jobs.\n",
      "Some of these postulate that half or more of all jobs could soon be\n",
      "replaced. “This will be the fastest transition humankind has\n",
      "experienced,” said Kai-Fu Lee, an AI expert who has held executive\n",
      "positions at Google, Microsoft, and Apple, “and we’re not ready for\n",
      "it.”2\n",
      "<class 'unstructured.documents.elements.NarrativeText'> :  Recent reports of thriving employment don’t disprove automation’s\n",
      "impact; the decisive factor is how many of those jobs offer meaningful\n",
      "employment at a living wage, especially for unskilled workers.3 Two MIT economists, Erik Brynjolfsson and Andrew\n",
      "McAfee, say we’re witnessing the birth of the “Second Machine Age.” In\n",
      "an interview with the Harvard Business Review, McAfee noted\n",
      "that digital technologies are doing for human brainpower what the steam\n",
      "engine and related technologies did for human muscle\n",
      "power during the Industrial Revolution (aka the First Machine Age).4 If that doesn’t sound familiar, it will after\n",
      "reading Cybernetics, where Wiener uses exactly the same\n",
      "comparison. Wiener notes in the book that he’d attempted to alert the\n",
      "labor unions of the threats posed by automation to their membership.\n",
      "With a few exceptions, he said, he found union leadership “totally\n",
      "unprepared to enter into the larger political, technical, sociological,\n",
      "and economic questions which concern the very existence of labor.” Today\n",
      "we seem more willing to talk about those questions. Whether we’re\n",
      "willing to do something about them is another question.\n",
      "<class 'unstructured.documents.elements.NarrativeText'> :  The potentially ruinous impact of communication technologies on\n",
      "democracy is another issue that Wiener anticipated with uncanny\n",
      "accuracy. The most fundamental conviction of cybernetic theory is that\n",
      "it all comes down to messages (i.e., information) sent and responded to\n",
      "(i.e., feedback). The functionality of a machine, organism, or society\n",
      "depends on the quality of those messages. Faithful exchanges of\n",
      "information allow the machine, organism, or society to maintain a state\n",
      "of homeostasis. Information corrupted by various forms of noise leads to\n",
      "the opposite.\n"
     ]
    }
   ],
   "source": [
    "file_path = \"/Users/pranav/personal/books/Norbert Wiener - Cybernetics or Control and Communication in the Animal and the Machine, Reissue of the 1961-MIT Press (2019).epub\"\n",
    "elements = partition_epub(file_path)\n",
    "\n",
    "print('the len of elements', len(elements))\n",
    "# Print the first few elements to see the structure\n",
    "for element in elements[:10]:\n",
    "    print(type(element), \": \", element)"
   ]
  },
  {
   "cell_type": "code",
   "execution_count": 12,
   "id": "b7d6cdab-ccaf-4a1c-95df-56314e8093f5",
   "metadata": {},
   "outputs": [
    {
     "name": "stdout",
     "output_type": "stream",
     "text": [
      "0: Title: d_r0...\n",
      "1: Title: Foreword...\n",
      "2: Title: Doug Hill...\n",
      "3: NarrativeText: It tells you something\n",
      "about Norbert Wiener’s qual...\n",
      "4: NarrativeText: The New York Times acknowledged as much in 1965 wh...\n",
      "5: NarrativeText: His\n",
      "introduction concludes by noting his distress ...\n",
      "6: NarrativeText: This latest reissue of Cybernetics likewise makes ...\n",
      "7: NarrativeText: The likely impact of automation on employment is a...\n",
      "8: NarrativeText: Recent reports of thriving employment don’t dispro...\n",
      "9: NarrativeText: The potentially ruinous impact of communication te...\n",
      "10: NarrativeText: In Cybernetics, Wiener calls the mass media of his...\n",
      "11: NarrativeText: That the\n",
      "routine operation of computer technologie...\n",
      "12: NarrativeText: Speed is another routine feature of automation tha...\n",
      "13: NarrativeText: Given the profits they engender, it’s unlikely we’...\n",
      "14: NarrativeText: So long as anything remained of the rich endowment...\n",
      "15: NarrativeText: Under these conditions, the new resources given by...\n",
      "16: NarrativeText: Where did this willingness to so vehemently attack...\n",
      "17: NarrativeText: Wiener\n",
      "showed signs of genius almost from infancy....\n",
      "18: NarrativeText: Like many, if not most, prodigies, Wiener emerged ...\n",
      "19: NarrativeText: His academic precocity made Wiener a minor celebri...\n"
     ]
    }
   ],
   "source": [
    "\n",
    "for i, element in enumerate(elements[:20]):  # Adjust the number as needed\n",
    "    print(f\"{i}: {type(element).__name__}: {str(element)[:50]}...\")  # Print "
   ]
  },
  {
   "cell_type": "code",
   "execution_count": 4,
   "id": "040bd2ae-c27c-4601-89aa-759682d28d7e",
   "metadata": {},
   "outputs": [
    {
     "name": "stdout",
     "output_type": "stream",
     "text": [
      "Title: 31\n",
      "NarrativeText: 552\n",
      "Text: 1\n"
     ]
    }
   ],
   "source": [
    "from collections import Counter\n",
    "\n",
    "element_types = Counter(type(element).__name__ for element in elements)\n",
    "for element_type, count in element_types.items():\n",
    "    print(f\"{element_type}: {count}\")"
   ]
  },
  {
   "cell_type": "code",
   "execution_count": 5,
   "id": "d36bf7e3-71a2-460d-a225-816efe1587cf",
   "metadata": {},
   "outputs": [
    {
     "name": "stdout",
     "output_type": "stream",
     "text": [
      "Titles:\n",
      "The Stranger\n",
      "ALBERT CAMUS\n",
      "Translated from the French by Stuart Gilbert\n",
      "TABLE OF CONTENTS\n",
      "Part\n",
      "One\n",
      "II\n",
      "III\n",
      "IV\n",
      "VI\n",
      "Part\n",
      "Two\n"
     ]
    }
   ],
   "source": [
    "titles = [str(elem) for elem in elements if type(elem).__name__ == 'Title']\n",
    "print(\"Titles:\")\n",
    "for title in titles[:10]:  # Print first 10 titles\n",
    "    print(title)"
   ]
  },
  {
   "cell_type": "code",
   "execution_count": 6,
   "id": "d18e13b1-ac2b-40d6-992d-976856148d6c",
   "metadata": {},
   "outputs": [
    {
     "name": "stdout",
     "output_type": "stream",
     "text": [
      "\n",
      "Element 0:\n",
      "Type: Title\n",
      "Content: The Stranger\n",
      "--------------------------------------------------\n",
      "\n",
      "Element 1:\n",
      "Type: Title\n",
      "Content: ALBERT CAMUS\n",
      "--------------------------------------------------\n",
      "\n",
      "Element 2:\n",
      "Type: Title\n",
      "Content: Translated from the French by Stuart Gilbert\n",
      "--------------------------------------------------\n",
      "\n",
      "Element 10:\n",
      "Type: Title\n",
      "Content: II\n",
      "--------------------------------------------------\n",
      "\n",
      "Element 20:\n",
      "Type: NarrativeText\n",
      "Content: “Madame Meursault entered the Home\n",
      "three years ago. She had no private means and depended entirely on you.”\n",
      "--------------------------------------------------\n",
      "\n",
      "Element 30:\n",
      "Type: NarrativeText\n",
      "Content: We crossed a courtyard where there were\n",
      "a number of old men, talking amongst themselves in little groups. They\n",
      "fell silent as we came up with them. Then, behind our backs, the\n",
      "chattering began again. Their voices reminded me of parakeets in a cage,\n",
      "only the sound wasn’t quite so shrill. The warden stopped outside the\n",
      "entrance of a small, low building.\n",
      "--------------------------------------------------\n"
     ]
    }
   ],
   "source": [
    "for i, element in enumerate(elements):\n",
    "    if i in [0, 1, 2, 10, 20, 30]:  # Adjust these indices as needed\n",
    "        print(f\"\\nElement {i}:\")\n",
    "        print(f\"Type: {type(element).__name__}\")\n",
    "        print(f\"Content: {element}\")\n",
    "        print(\"-\" * 50)"
   ]
  },
  {
   "cell_type": "code",
   "execution_count": 7,
   "id": "212d9cb4-9c43-4b62-8380-28910d0d470c",
   "metadata": {},
   "outputs": [
    {
     "name": "stdout",
     "output_type": "stream",
     "text": [
      "No metadata found\n"
     ]
    }
   ],
   "source": [
    "metadata = next((elem for elem in elements if type(elem).__name__ == 'MetadataElement'), None)\n",
    "if metadata:\n",
    "    print(\"Metadata:\", metadata)\n",
    "else:\n",
    "    print(\"No metadata found\")"
   ]
  },
  {
   "cell_type": "code",
   "execution_count": 8,
   "id": "e740ac30-efb0-40f9-bcde-36944b6af43e",
   "metadata": {},
   "outputs": [
    {
     "name": "stdout",
     "output_type": "stream",
     "text": [
      "Title: The Stranger...\n",
      "Title: ALBERT CAMUS...\n",
      "Title: Translated from the French by Stuart Gilbert...\n",
      "Title: TABLE OF CONTENTS...\n",
      "Title: Part\n",
      "One...\n",
      "Title: II...\n",
      "Title: III...\n",
      "Title: IV...\n",
      "Title: VI...\n",
      "Title: Part\n",
      "Two...\n",
      "Title: II...\n",
      "Title: III...\n",
      "Title: IV...\n",
      "Title: Part\n",
      "One...\n",
      "NarrativeText: MOTHER died today. Or, maybe,\n",
      "yesterday; I can’t b...\n",
      "NarrativeText: The Home for Aged Persons is at\n",
      "Marengo, some fift...\n",
      "NarrativeText: Afterwards it struck me I needn’t have\n",
      "said that. ...\n",
      "NarrativeText: I took the two-o’clock bus. It was a\n",
      "blazing hot a...\n",
      "NarrativeText: I had to run to catch the bus. I\n",
      "suppose it was my...\n",
      "NarrativeText: The Home is a little over a mile from\n",
      "the village....\n"
     ]
    }
   ],
   "source": [
    "def print_hierarchy(elements, level=0):\n",
    "    for elem in elements:\n",
    "        print(\"  \" * level + f\"{type(elem).__name__}: {str(elem)[:50]}...\")\n",
    "        if hasattr(elem, 'elements'):\n",
    "            print_hierarchy(elem.elements, level + 1)\n",
    "\n",
    "print_hierarchy(elements[:20])  # Adjust as needed"
   ]
  },
  {
   "cell_type": "code",
   "execution_count": 10,
   "id": "af5be6ac-ab35-4b8f-ad9f-80c513fa18a6",
   "metadata": {},
   "outputs": [
    {
     "name": "stdout",
     "output_type": "stream",
     "text": [
      "              Type                                            Content\n",
      "0            Title                                       The Stranger\n",
      "1            Title                                       ALBERT CAMUS\n",
      "2            Title       Translated from the French by Stuart Gilbert\n",
      "3            Title                                  TABLE OF CONTENTS\n",
      "4            Title                                          Part\\nOne\n",
      "..             ...                                                ...\n",
      "115  NarrativeText  At five there was a loud clanging of\\nstreetca...\n",
      "116  NarrativeText  The sky had changed again; a reddish\\nglow was...\n",
      "117  NarrativeText  Just then the street lamps came on, all\\ntoget...\n",
      "118  NarrativeText  Soon after this, as the streetcars\\nbecame few...\n",
      "119  NarrativeText  It struck me that I’d better see about\\nsome d...\n",
      "\n",
      "[120 rows x 2 columns]\n"
     ]
    }
   ],
   "source": [
    "import pandas as pd\n",
    "\n",
    "df = pd.DataFrame([\n",
    "    {'Type': type(elem).__name__, 'Content': str(elem)[:100]} \n",
    "    for elem in elements\n",
    "])\n",
    "print(df.head(120))  # Adjust the number as needed"
   ]
  },
  {
   "cell_type": "code",
   "execution_count": null,
   "id": "35873ea5-1c81-47c1-836d-2c565555b9d1",
   "metadata": {},
   "outputs": [],
   "source": []
  }
 ],
 "metadata": {
  "kernelspec": {
   "display_name": "Python 3 (ipykernel)",
   "language": "python",
   "name": "python3"
  },
  "language_info": {
   "codemirror_mode": {
    "name": "ipython",
    "version": 3
   },
   "file_extension": ".py",
   "mimetype": "text/x-python",
   "name": "python",
   "nbconvert_exporter": "python",
   "pygments_lexer": "ipython3",
   "version": "3.12.0"
  }
 },
 "nbformat": 4,
 "nbformat_minor": 5
}
